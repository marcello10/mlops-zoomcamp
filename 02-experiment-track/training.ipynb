{
 "cells": [
  {
   "cell_type": "code",
   "execution_count": 1,
   "id": "b4590edd-d519-4371-addb-dd707020935b",
   "metadata": {},
   "outputs": [],
   "source": [
    "import pandas as pd\n",
    "import sklearn\n",
    "import seaborn as sns\n",
    "import matplotlib.pyplot as plt"
   ]
  },
  {
   "cell_type": "code",
   "execution_count": 2,
   "id": "1b9e5b24",
   "metadata": {},
   "outputs": [],
   "source": [
    "from sklearn.feature_extraction import DictVectorizer\n",
    "from sklearn.linear_model import LinearRegression, Lasso\n",
    "from sklearn.metrics import root_mean_squared_error"
   ]
  },
  {
   "cell_type": "code",
   "execution_count": null,
   "id": "b287e989",
   "metadata": {},
   "outputs": [],
   "source": [
    "import mlflow\n",
    "mlflow.set_tracking_uri(\"sqlite:///mlflow.db\")\n",
    "mlflow.set_experiment(\"nyc-taxi-experiment\")\n"
   ]
  },
  {
   "cell_type": "code",
   "execution_count": 4,
   "id": "5bd7b5f8",
   "metadata": {},
   "outputs": [],
   "source": [
    "data_path = \"C:\\\\Users\\\\Marcelo\\\\Documents\\\\mlops-zoomcamp\\\\data\""
   ]
  },
  {
   "cell_type": "code",
   "execution_count": 5,
   "id": "df41c22a",
   "metadata": {},
   "outputs": [],
   "source": [
    "df = pd.read_parquet(f'{data_path}\\\\green_tripdata_2021-01.parquet')\n",
    "df['duration'] = df.lpep_dropoff_datetime - df.lpep_pickup_datetime\n",
    "df.duration = df.duration.apply(lambda td: td.total_seconds() / 60)\n",
    "\n",
    "df = df[(df.duration >= 1) & (df.duration <= 60)]\n",
    "\n",
    "categorical = ['PULocationID', 'DOLocationID']\n",
    "numerical = ['trip_distance']\n",
    "\n",
    "df[categorical] = df[categorical].astype(str)"
   ]
  },
  {
   "cell_type": "code",
   "execution_count": null,
   "id": "23aa2118",
   "metadata": {},
   "outputs": [],
   "source": [
    "train_dicts = df[categorical + numerical].to_dict(orient='records')\n",
    "\n",
    "dv = DictVectorizer()\n",
    "X_train = dv.fit_transform(train_dicts)\n",
    "\n",
    "target = 'duration'\n",
    "y_train = df[target].values\n",
    "\n",
    "lr = LinearRegression()\n",
    "lr.fit(X_train, y_train)\n",
    "\n",
    "y_pred = lr.predict(X_train)\n",
    "\n",
    "root_mean_squared_error(y_train, y_pred)"
   ]
  },
  {
   "cell_type": "code",
   "execution_count": 7,
   "id": "33e651cc-94db-468a-9149-25bcb252fb6d",
   "metadata": {},
   "outputs": [],
   "source": [
    "def read_dataframe(filename):\n",
    "    if filename.endswith('.csv'):\n",
    "        df = pd.read_csv(filename)\n",
    "\n",
    "        df.lpep_dropoff_datetime = pd.to_datetime(df.lpep_dropoff_datetime)\n",
    "        df.lpep_pickup_datetime = pd.to_datetime(df.lpep_pickup_datetime)\n",
    "    elif filename.endswith('.parquet'):\n",
    "        df = pd.read_parquet(filename)\n",
    "\n",
    "    df['duration'] = df.lpep_dropoff_datetime - df.lpep_pickup_datetime\n",
    "    df.duration = df.duration.apply(lambda td: td.total_seconds() / 60)\n",
    "\n",
    "    df = df[(df.duration >= 1) & (df.duration <= 60)]\n",
    "\n",
    "    categorical = ['PULocationID', 'DOLocationID']\n",
    "    df[categorical] = df[categorical].astype(str)\n",
    "    \n",
    "    return df"
   ]
  },
  {
   "cell_type": "code",
   "execution_count": 8,
   "id": "65d11521",
   "metadata": {},
   "outputs": [],
   "source": [
    "train_data_path = f'{data_path}\\\\green_tripdata_2021-01.parquet'\n",
    "val_data_path = f'{data_path}\\\\green_tripdata_2021-02.parquet'"
   ]
  },
  {
   "cell_type": "code",
   "execution_count": 9,
   "id": "fb550940",
   "metadata": {},
   "outputs": [],
   "source": [
    "df_train = read_dataframe(train_data_path)\n",
    "df_val = read_dataframe(val_data_path)"
   ]
  },
  {
   "cell_type": "code",
   "execution_count": null,
   "id": "9321630b",
   "metadata": {},
   "outputs": [],
   "source": [
    "len(df_train),len(df_val)"
   ]
  },
  {
   "cell_type": "code",
   "execution_count": 11,
   "id": "c3962d98",
   "metadata": {},
   "outputs": [],
   "source": [
    "train_dicts = df[categorical+numerical].to_dict(orient='records')"
   ]
  },
  {
   "cell_type": "code",
   "execution_count": 12,
   "id": "6729ccce",
   "metadata": {},
   "outputs": [],
   "source": [
    "dv = DictVectorizer()\n",
    "X_train = dv.fit_transform(train_dicts)"
   ]
  },
  {
   "cell_type": "code",
   "execution_count": 13,
   "id": "9ab949e9",
   "metadata": {},
   "outputs": [],
   "source": [
    "target = 'duration'\n",
    "y_train = df[target].values"
   ]
  },
  {
   "cell_type": "code",
   "execution_count": null,
   "id": "63dd05e9",
   "metadata": {},
   "outputs": [],
   "source": [
    "lr = LinearRegression()\n",
    "lr.fit(X_train,y_train)"
   ]
  },
  {
   "cell_type": "code",
   "execution_count": 15,
   "id": "8d8f6f4d",
   "metadata": {},
   "outputs": [],
   "source": [
    "y_pred = lr.predict(X_train)"
   ]
  },
  {
   "cell_type": "code",
   "execution_count": null,
   "id": "3ab1ee6f",
   "metadata": {},
   "outputs": [],
   "source": [
    "#plt.figure(figsize=(10, 6))\n",
    "sns.kdeplot(data=y_pred, label='prediction')\n",
    "sns.kdeplot(data=y_train, label='actual')\n",
    "plt.legend()\n",
    "plt.show()"
   ]
  },
  {
   "cell_type": "code",
   "execution_count": null,
   "id": "46cc8f53",
   "metadata": {},
   "outputs": [],
   "source": [
    "root_mean_squared_error(y_train,y_pred)"
   ]
  },
  {
   "cell_type": "code",
   "execution_count": 18,
   "id": "67ad8e78",
   "metadata": {},
   "outputs": [],
   "source": [
    "df_train['PU_DO'] = df_train['PULocationID'] + '_' + df_train['DOLocationID']\n",
    "df_val['PU_DO'] = df_val['PULocationID'] + '_' + df_val['DOLocationID']"
   ]
  },
  {
   "cell_type": "code",
   "execution_count": 19,
   "id": "bfb44b39",
   "metadata": {},
   "outputs": [],
   "source": [
    "categorical = ['PU_DO'] #'PULocationID', 'DOLocationID']\n",
    "numerical = ['trip_distance']\n",
    "\n",
    "dv = DictVectorizer()\n",
    "\n",
    "train_dicts = df_train[categorical + numerical].to_dict(orient='records')\n",
    "X_train = dv.fit_transform(train_dicts)\n",
    "\n",
    "val_dicts = df_val[categorical + numerical].to_dict(orient='records')\n",
    "X_val = dv.transform(val_dicts)"
   ]
  },
  {
   "cell_type": "code",
   "execution_count": 20,
   "id": "1e2a780a",
   "metadata": {},
   "outputs": [],
   "source": [
    "target = 'duration'\n",
    "y_train = df_train[target].values\n",
    "y_val = df_val[target].values"
   ]
  },
  {
   "cell_type": "code",
   "execution_count": 35,
   "id": "a745211f",
   "metadata": {},
   "outputs": [],
   "source": [
    "import xgboost as xgb\n",
    "from hyperopt import fmin, tpe, hp, STATUS_OK, Trials\n",
    "from hyperopt.pyll import scope"
   ]
  },
  {
   "cell_type": "code",
   "execution_count": 34,
   "id": "b0da6b10",
   "metadata": {},
   "outputs": [],
   "source": [
    "train = xgb.DMatrix(X_train, label=y_train)\n",
    "valid = xgb.DMatrix(X_val, label=y_val)"
   ]
  },
  {
   "cell_type": "code",
   "execution_count": 36,
   "id": "c3d136f1",
   "metadata": {},
   "outputs": [],
   "source": [
    "from sklearn.metrics import mean_squared_error\n",
    "import numpy as np"
   ]
  },
  {
   "cell_type": "code",
   "execution_count": 24,
   "id": "2592cb88",
   "metadata": {},
   "outputs": [],
   "source": [
    "search_space = {\n",
    "    'max_depth': scope.int(hp.quniform('max_depth', 4, 100, 1)),\n",
    "    'learning_rate': hp.loguniform('learning_rate', -3, 0),\n",
    "    'reg_alpha': hp.loguniform('reg_alpha', -5, -1),\n",
    "    'reg_lambda': hp.loguniform('reg_lambda', -6, -1),\n",
    "    'min_child_weight': hp.loguniform('min_child_weight', -1, 3),\n",
    "    'objective': 'reg:squarederror',\n",
    "    'seed': 42,\n",
    "    # Parâmetros específicos para GPU\n",
    "    'device': 'gpu',  # Usa GPU para construção de árvores\n",
    "    #'gpu_id': 0,  # ID da GPU a ser usada (0 para primeira GPU)\n",
    "    #'predictor': 'gpu_predictor'  # Usa GPU para predição\n",
    "}\n",
    "\n",
    "def objective(params):\n",
    "    with mlflow.start_run():\n",
    "        mlflow.set_tag(\"model\", \"xgboost-gpu\")  # Adicionei -gpu para identificar que está usando GPU\n",
    "        mlflow.log_params(params)\n",
    "        \n",
    "        # Configuração do treinamento\n",
    "        booster = xgb.train(\n",
    "            params=params,\n",
    "            dtrain=train,\n",
    "            num_boost_round=1000,\n",
    "            evals=[(valid, 'validation')],\n",
    "            early_stopping_rounds=50\n",
    "        )\n",
    "        y_pred = booster.predict(valid)\n",
    "        mse = mean_squared_error(y_val, y_pred) # Calcula o MSE\n",
    "        rmse = np.sqrt(mse) # Calcula a raiz quadrada (RMSE)\n",
    "        mlflow.log_metric(\"rmse\", rmse)\n",
    "\n",
    "    return {'loss': rmse, 'status': STATUS_OK}"
   ]
  },
  {
   "cell_type": "code",
   "execution_count": null,
   "id": "8059866a",
   "metadata": {},
   "outputs": [],
   "source": [
    "best_result = fmin(\n",
    "    fn=objective,\n",
    "    space=search_space,\n",
    "    algo=tpe.suggest,\n",
    "    max_evals=50,\n",
    "    trials=Trials()\n",
    ")"
   ]
  },
  {
   "cell_type": "code",
   "execution_count": 40,
   "id": "12cde11b",
   "metadata": {
    "notebookRunGroups": {
     "groupValue": "1"
    }
   },
   "outputs": [],
   "source": [
    "config = {\n",
    "        \"device\": \"gpu\",\n",
    "        \"learning_rate\": 0.11536248369973928,\n",
    "        \"max_depth\": 45,\n",
    "        \"min_child_weight\": 1.152401001199661,\n",
    "        \"objective\": \"reg:squarederror\",\n",
    "        \"reg_alpha\": 0.05317357113372023,\n",
    "        \"reg_lambda\": 0.061055701274306054,\n",
    "        \"seed\": 42\n",
    "    }\n",
    "def train_model_xgboost(config,train,valid,num_boost_round=1000):\n",
    "    mlflow.xgboost.autolog()\n",
    "    booster = xgb.train(\n",
    "                params=config,\n",
    "                dtrain=train,\n",
    "                num_boost_round=num_boost_round,\n",
    "                evals=[(valid, 'validation')],\n",
    "                early_stopping_rounds=50\n",
    "            )\n",
    "    return booster"
   ]
  },
  {
   "cell_type": "code",
   "execution_count": 31,
   "id": "3161b02a",
   "metadata": {},
   "outputs": [],
   "source": [
    "import pickle"
   ]
  },
  {
   "cell_type": "code",
   "execution_count": null,
   "id": "8377999e",
   "metadata": {},
   "outputs": [],
   "source": [
    "with mlflow.start_run():\n",
    "    mlflow.set_tag(\"developer\", \"marcelo\")\n",
    "    mlflow.log_param(\"train-data-path\", train_data_path)\n",
    "    mlflow.log_param(\"valid-data-path\", val_data_path)\n",
    "    alpha = 0.001\n",
    "    mlflow.log_param(\"model\", \"lasso\")\n",
    "    lr = Lasso(alpha=alpha)\n",
    "    lr.fit(X_train, y_train)\n",
    "    y_pred = lr.predict(X_val)\n",
    "    rmse = root_mean_squared_error(y_val, y_pred)\n",
    "    mlflow.log_metrics({\"rmse\": rmse})\n",
    "    mlflow.log_params({\"alpha\": alpha})\n",
    "    mlflow.log_artifact(local_path=\"..\\\\01-intro\\\\models\\\\lr_regressor.bin\",\n",
    "                        artifact_path=\"models_pickle\")"
   ]
  },
  {
   "cell_type": "code",
   "execution_count": 38,
   "id": "5497d4bd",
   "metadata": {},
   "outputs": [],
   "source": [
    "mlflow.xgboost.autolog(disable=True)"
   ]
  },
  {
   "cell_type": "code",
   "execution_count": 41,
   "id": "4e1cb6f2",
   "metadata": {},
   "outputs": [
    {
     "name": "stderr",
     "output_type": "stream",
     "text": [
      "2025/05/26 15:24:59 WARNING mlflow.utils.autologging_utils: MLflow xgboost autologging is known to be compatible with 1.4.2 <= xgboost <= 3.0.0, but the installed version is 3.0.2. If you encounter errors during autologging, try upgrading / downgrading xgboost to a compatible version, or try upgrading MLflow.\n"
     ]
    },
    {
     "name": "stdout",
     "output_type": "stream",
     "text": [
      "[0]\tvalidation-rmse:11.28151\n",
      "[1]\tvalidation-rmse:10.48816\n",
      "[2]\tvalidation-rmse:9.81741\n",
      "[3]\tvalidation-rmse:9.25049\n",
      "[4]\tvalidation-rmse:8.77726\n",
      "[5]\tvalidation-rmse:8.38408\n",
      "[6]\tvalidation-rmse:8.05609\n",
      "[7]\tvalidation-rmse:7.78492\n",
      "[8]\tvalidation-rmse:7.56104\n",
      "[9]\tvalidation-rmse:7.37649\n",
      "[10]\tvalidation-rmse:7.22330\n",
      "[11]\tvalidation-rmse:7.10060\n",
      "[12]\tvalidation-rmse:6.99730\n",
      "[13]\tvalidation-rmse:6.91438\n",
      "[14]\tvalidation-rmse:6.84376\n",
      "[15]\tvalidation-rmse:6.78708\n",
      "[16]\tvalidation-rmse:6.73830\n",
      "[17]\tvalidation-rmse:6.69749\n",
      "[18]\tvalidation-rmse:6.66438\n",
      "[19]\tvalidation-rmse:6.63507\n",
      "[20]\tvalidation-rmse:6.61044\n",
      "[21]\tvalidation-rmse:6.58872\n",
      "[22]\tvalidation-rmse:6.57103\n",
      "[23]\tvalidation-rmse:6.55625\n",
      "[24]\tvalidation-rmse:6.54279\n",
      "[25]\tvalidation-rmse:6.53134\n",
      "[26]\tvalidation-rmse:6.52110\n",
      "[27]\tvalidation-rmse:6.51254\n",
      "[28]\tvalidation-rmse:6.50488\n",
      "[29]\tvalidation-rmse:6.49750\n",
      "[30]\tvalidation-rmse:6.49165\n",
      "[31]\tvalidation-rmse:6.48585\n",
      "[32]\tvalidation-rmse:6.48110\n",
      "[33]\tvalidation-rmse:6.47675\n",
      "[34]\tvalidation-rmse:6.47257\n",
      "[35]\tvalidation-rmse:6.46896\n",
      "[36]\tvalidation-rmse:6.46589\n",
      "[37]\tvalidation-rmse:6.46318\n",
      "[38]\tvalidation-rmse:6.46082\n",
      "[39]\tvalidation-rmse:6.45845\n",
      "[40]\tvalidation-rmse:6.45691\n",
      "[41]\tvalidation-rmse:6.45582\n",
      "[42]\tvalidation-rmse:6.45491\n",
      "[43]\tvalidation-rmse:6.45423\n",
      "[44]\tvalidation-rmse:6.45295\n",
      "[45]\tvalidation-rmse:6.45217\n",
      "[46]\tvalidation-rmse:6.45140\n",
      "[47]\tvalidation-rmse:6.44986\n",
      "[48]\tvalidation-rmse:6.44796\n",
      "[49]\tvalidation-rmse:6.44738\n",
      "[50]\tvalidation-rmse:6.44572\n",
      "[51]\tvalidation-rmse:6.44456\n",
      "[52]\tvalidation-rmse:6.44368\n",
      "[53]\tvalidation-rmse:6.44293\n",
      "[54]\tvalidation-rmse:6.44171\n",
      "[55]\tvalidation-rmse:6.44002\n",
      "[56]\tvalidation-rmse:6.43891\n",
      "[57]\tvalidation-rmse:6.43780\n",
      "[58]\tvalidation-rmse:6.43642\n",
      "[59]\tvalidation-rmse:6.43548\n",
      "[60]\tvalidation-rmse:6.43488\n",
      "[61]\tvalidation-rmse:6.43387\n",
      "[62]\tvalidation-rmse:6.43298\n",
      "[63]\tvalidation-rmse:6.43186\n",
      "[64]\tvalidation-rmse:6.43050\n",
      "[65]\tvalidation-rmse:6.42878\n",
      "[66]\tvalidation-rmse:6.42773\n",
      "[67]\tvalidation-rmse:6.42683\n",
      "[68]\tvalidation-rmse:6.42546\n",
      "[69]\tvalidation-rmse:6.42415\n",
      "[70]\tvalidation-rmse:6.42327\n",
      "[71]\tvalidation-rmse:6.42225\n",
      "[72]\tvalidation-rmse:6.42135\n",
      "[73]\tvalidation-rmse:6.42074\n",
      "[74]\tvalidation-rmse:6.41991\n",
      "[75]\tvalidation-rmse:6.41915\n",
      "[76]\tvalidation-rmse:6.41837\n",
      "[77]\tvalidation-rmse:6.41751\n",
      "[78]\tvalidation-rmse:6.41660\n",
      "[79]\tvalidation-rmse:6.41555\n",
      "[80]\tvalidation-rmse:6.41468\n",
      "[81]\tvalidation-rmse:6.41415\n",
      "[82]\tvalidation-rmse:6.41368\n",
      "[83]\tvalidation-rmse:6.41281\n",
      "[84]\tvalidation-rmse:6.41207\n",
      "[85]\tvalidation-rmse:6.41147\n",
      "[86]\tvalidation-rmse:6.41043\n",
      "[87]\tvalidation-rmse:6.40992\n",
      "[88]\tvalidation-rmse:6.40888\n",
      "[89]\tvalidation-rmse:6.40803\n",
      "[90]\tvalidation-rmse:6.40754\n",
      "[91]\tvalidation-rmse:6.40678\n",
      "[92]\tvalidation-rmse:6.40566\n",
      "[93]\tvalidation-rmse:6.40475\n",
      "[94]\tvalidation-rmse:6.40380\n",
      "[95]\tvalidation-rmse:6.40326\n",
      "[96]\tvalidation-rmse:6.40279\n",
      "[97]\tvalidation-rmse:6.40216\n",
      "[98]\tvalidation-rmse:6.40143\n",
      "[99]\tvalidation-rmse:6.40103\n",
      "[100]\tvalidation-rmse:6.40054\n",
      "[101]\tvalidation-rmse:6.39993\n",
      "[102]\tvalidation-rmse:6.39948\n",
      "[103]\tvalidation-rmse:6.39881\n",
      "[104]\tvalidation-rmse:6.39808\n",
      "[105]\tvalidation-rmse:6.39754\n",
      "[106]\tvalidation-rmse:6.39666\n",
      "[107]\tvalidation-rmse:6.39618\n",
      "[108]\tvalidation-rmse:6.39529\n",
      "[109]\tvalidation-rmse:6.39432\n",
      "[110]\tvalidation-rmse:6.39378\n",
      "[111]\tvalidation-rmse:6.39347\n",
      "[112]\tvalidation-rmse:6.39293\n",
      "[113]\tvalidation-rmse:6.39226\n",
      "[114]\tvalidation-rmse:6.39170\n",
      "[115]\tvalidation-rmse:6.39107\n",
      "[116]\tvalidation-rmse:6.39051\n",
      "[117]\tvalidation-rmse:6.38994\n",
      "[118]\tvalidation-rmse:6.38948\n",
      "[119]\tvalidation-rmse:6.38879\n",
      "[120]\tvalidation-rmse:6.38811\n",
      "[121]\tvalidation-rmse:6.38759\n",
      "[122]\tvalidation-rmse:6.38717\n",
      "[123]\tvalidation-rmse:6.38669\n",
      "[124]\tvalidation-rmse:6.38601\n",
      "[125]\tvalidation-rmse:6.38566\n",
      "[126]\tvalidation-rmse:6.38473\n",
      "[127]\tvalidation-rmse:6.38414\n",
      "[128]\tvalidation-rmse:6.38323\n",
      "[129]\tvalidation-rmse:6.38273\n",
      "[130]\tvalidation-rmse:6.38232\n",
      "[131]\tvalidation-rmse:6.38178\n",
      "[132]\tvalidation-rmse:6.38104\n",
      "[133]\tvalidation-rmse:6.38041\n",
      "[134]\tvalidation-rmse:6.38006\n",
      "[135]\tvalidation-rmse:6.37964\n",
      "[136]\tvalidation-rmse:6.37938\n",
      "[137]\tvalidation-rmse:6.37877\n",
      "[138]\tvalidation-rmse:6.37843\n",
      "[139]\tvalidation-rmse:6.37802\n",
      "[140]\tvalidation-rmse:6.37756\n",
      "[141]\tvalidation-rmse:6.37675\n",
      "[142]\tvalidation-rmse:6.37647\n",
      "[143]\tvalidation-rmse:6.37611\n",
      "[144]\tvalidation-rmse:6.37532\n",
      "[145]\tvalidation-rmse:6.37471\n",
      "[146]\tvalidation-rmse:6.37449\n",
      "[147]\tvalidation-rmse:6.37396\n",
      "[148]\tvalidation-rmse:6.37364\n",
      "[149]\tvalidation-rmse:6.37319\n",
      "[150]\tvalidation-rmse:6.37304\n",
      "[151]\tvalidation-rmse:6.37240\n",
      "[152]\tvalidation-rmse:6.37183\n",
      "[153]\tvalidation-rmse:6.37142\n",
      "[154]\tvalidation-rmse:6.37103\n",
      "[155]\tvalidation-rmse:6.37064\n",
      "[156]\tvalidation-rmse:6.37036\n",
      "[157]\tvalidation-rmse:6.36971\n",
      "[158]\tvalidation-rmse:6.36930\n",
      "[159]\tvalidation-rmse:6.36888\n",
      "[160]\tvalidation-rmse:6.36848\n",
      "[161]\tvalidation-rmse:6.36816\n",
      "[162]\tvalidation-rmse:6.36790\n",
      "[163]\tvalidation-rmse:6.36761\n",
      "[164]\tvalidation-rmse:6.36707\n",
      "[165]\tvalidation-rmse:6.36658\n",
      "[166]\tvalidation-rmse:6.36604\n",
      "[167]\tvalidation-rmse:6.36585\n",
      "[168]\tvalidation-rmse:6.36532\n",
      "[169]\tvalidation-rmse:6.36454\n",
      "[170]\tvalidation-rmse:6.36426\n",
      "[171]\tvalidation-rmse:6.36360\n",
      "[172]\tvalidation-rmse:6.36325\n",
      "[173]\tvalidation-rmse:6.36281\n",
      "[174]\tvalidation-rmse:6.36237\n",
      "[175]\tvalidation-rmse:6.36217\n",
      "[176]\tvalidation-rmse:6.36175\n",
      "[177]\tvalidation-rmse:6.36119\n",
      "[178]\tvalidation-rmse:6.36099\n",
      "[179]\tvalidation-rmse:6.36086\n",
      "[180]\tvalidation-rmse:6.36045\n",
      "[181]\tvalidation-rmse:6.35987\n",
      "[182]\tvalidation-rmse:6.35951\n",
      "[183]\tvalidation-rmse:6.35932\n",
      "[184]\tvalidation-rmse:6.35888\n",
      "[185]\tvalidation-rmse:6.35857\n",
      "[186]\tvalidation-rmse:6.35830\n",
      "[187]\tvalidation-rmse:6.35801\n",
      "[188]\tvalidation-rmse:6.35768\n",
      "[189]\tvalidation-rmse:6.35728\n",
      "[190]\tvalidation-rmse:6.35681\n",
      "[191]\tvalidation-rmse:6.35643\n",
      "[192]\tvalidation-rmse:6.35628\n",
      "[193]\tvalidation-rmse:6.35587\n",
      "[194]\tvalidation-rmse:6.35566\n",
      "[195]\tvalidation-rmse:6.35535\n",
      "[196]\tvalidation-rmse:6.35519\n",
      "[197]\tvalidation-rmse:6.35491\n",
      "[198]\tvalidation-rmse:6.35478\n",
      "[199]\tvalidation-rmse:6.35439\n"
     ]
    },
    {
     "name": "stderr",
     "output_type": "stream",
     "text": [
      "2025/05/26 15:26:40 WARNING mlflow.xgboost: Failed to infer model signature: could not sample data to infer model signature: please ensure that autologging is enabled before constructing the dataset.\n",
      "2025/05/26 15:26:40 WARNING mlflow.utils.autologging_utils: MLflow autologging encountered a warning: \"c:\\Users\\Marcelo\\AppData\\Local\\anaconda3\\envs\\environment\\lib\\site-packages\\mlflow\\xgboost\\__init__.py:168: UserWarning: [15:26:40] WARNING: C:\\actions-runner\\_work\\xgboost\\xgboost\\src\\c_api\\c_api.cc:1427: Saving model in the UBJSON format as default.  You can use file extension: `json`, `ubj` or `deprecated` to choose between formats.\"\n",
      "2025/05/26 15:26:46 WARNING mlflow.models.model: Model logged without a signature and input example. Please set `input_example` parameter when logging the model to auto infer the model signature.\n",
      "c:\\Users\\Marcelo\\AppData\\Local\\anaconda3\\envs\\environment\\lib\\site-packages\\mlflow\\xgboost\\__init__.py:168: UserWarning: [15:26:46] WARNING: C:\\actions-runner\\_work\\xgboost\\xgboost\\src\\c_api\\c_api.cc:1427: Saving model in the UBJSON format as default.  You can use file extension: `json`, `ubj` or `deprecated` to choose between formats.\n",
      "  xgb_model.save_model(model_data_path)\n",
      "2025/05/26 15:26:51 WARNING mlflow.models.model: Model logged without a signature and input example. Please set `input_example` parameter when logging the model to auto infer the model signature.\n"
     ]
    }
   ],
   "source": [
    "with mlflow.start_run():\n",
    "    mlflow.log_params(config)\n",
    "    booster = train_model_xgboost(config,train,valid,num_boost_round=200)\n",
    "    y_pred = booster.predict(valid)\n",
    "    rmse = root_mean_squared_error(y_val, y_pred)\n",
    "    mlflow.log_metric(\"rmse\", rmse)\n",
    "    mlflow.xgboost.log_model(booster, artifact_path=\"models_mlflow\")\n",
    "    with open(\"..\\\\01-intro\\\\models\\\\preprocessor.bin\", \"wb\") as f_out:\n",
    "        pickle.dump(dv, f_out)\n",
    "    mlflow.log_artifact(\"..\\\\01-intro\\\\models\\\\preprocessor.bin\",\n",
    "                        artifact_path=\"preprocessor\")\n"
   ]
  },
  {
   "cell_type": "code",
   "execution_count": null,
   "id": "20d95220",
   "metadata": {},
   "outputs": [],
   "source": [
    "y_pred = lr.predict(X_val)\n",
    "\n",
    "root_mean_squared_error(y_val, y_pred)"
   ]
  },
  {
   "cell_type": "code",
   "execution_count": null,
   "id": "07478fc6",
   "metadata": {},
   "outputs": [],
   "source": []
  },
  {
   "cell_type": "code",
   "execution_count": null,
   "id": "d606085d",
   "metadata": {},
   "outputs": [],
   "source": [
    "with open('models/lr_regressor.bin', 'wb') as f_out:\n",
    "    pickle.dump((dv, lr), f_out)"
   ]
  }
 ],
 "metadata": {
  "kernelspec": {
   "display_name": "environment",
   "language": "python",
   "name": "python3"
  },
  "language_info": {
   "codemirror_mode": {
    "name": "ipython",
    "version": 3
   },
   "file_extension": ".py",
   "mimetype": "text/x-python",
   "name": "python",
   "nbconvert_exporter": "python",
   "pygments_lexer": "ipython3",
   "version": "3.10.14"
  }
 },
 "nbformat": 4,
 "nbformat_minor": 5
}
